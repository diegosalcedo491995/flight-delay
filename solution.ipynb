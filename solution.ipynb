{
 "cells": [
  {
   "cell_type": "code",
   "execution_count": 7,
   "metadata": {},
   "outputs": [
    {
     "name": "stderr",
     "output_type": "stream",
     "text": [
      "C:\\Users\\Diego Salcedo\\AppData\\Roaming\\Python\\Python39\\site-packages\\IPython\\core\\interactiveshell.py:3433: DtypeWarning: Columns (1,6) have mixed types.Specify dtype option on import or set low_memory=False.\n",
      "  exec(code_obj, self.user_global_ns, self.user_ns)\n"
     ]
    },
    {
     "data": {
      "text/html": [
       "<div>\n",
       "<style scoped>\n",
       "    .dataframe tbody tr th:only-of-type {\n",
       "        vertical-align: middle;\n",
       "    }\n",
       "\n",
       "    .dataframe tbody tr th {\n",
       "        vertical-align: top;\n",
       "    }\n",
       "\n",
       "    .dataframe thead th {\n",
       "        text-align: right;\n",
       "    }\n",
       "</style>\n",
       "<table border=\"1\" class=\"dataframe\">\n",
       "  <thead>\n",
       "    <tr style=\"text-align: right;\">\n",
       "      <th></th>\n",
       "      <th>Fecha-I</th>\n",
       "      <th>Vlo-I</th>\n",
       "      <th>Ori-I</th>\n",
       "      <th>Des-I</th>\n",
       "      <th>Emp-I</th>\n",
       "      <th>Fecha-O</th>\n",
       "      <th>Vlo-O</th>\n",
       "      <th>Ori-O</th>\n",
       "      <th>Des-O</th>\n",
       "      <th>Emp-O</th>\n",
       "      <th>DIA</th>\n",
       "      <th>MES</th>\n",
       "      <th>AÑO</th>\n",
       "      <th>DIANOM</th>\n",
       "      <th>TIPOVUELO</th>\n",
       "      <th>OPERA</th>\n",
       "      <th>SIGLAORI</th>\n",
       "      <th>SIGLADES</th>\n",
       "    </tr>\n",
       "  </thead>\n",
       "  <tbody>\n",
       "    <tr>\n",
       "      <th>0</th>\n",
       "      <td>2017-01-01 23:30:00</td>\n",
       "      <td>226</td>\n",
       "      <td>SCEL</td>\n",
       "      <td>KMIA</td>\n",
       "      <td>AAL</td>\n",
       "      <td>2017-01-01 23:33:00</td>\n",
       "      <td>226</td>\n",
       "      <td>SCEL</td>\n",
       "      <td>KMIA</td>\n",
       "      <td>AAL</td>\n",
       "      <td>1</td>\n",
       "      <td>1</td>\n",
       "      <td>2017</td>\n",
       "      <td>Domingo</td>\n",
       "      <td>I</td>\n",
       "      <td>American Airlines</td>\n",
       "      <td>Santiago</td>\n",
       "      <td>Miami</td>\n",
       "    </tr>\n",
       "    <tr>\n",
       "      <th>1</th>\n",
       "      <td>2017-01-02 23:30:00</td>\n",
       "      <td>226</td>\n",
       "      <td>SCEL</td>\n",
       "      <td>KMIA</td>\n",
       "      <td>AAL</td>\n",
       "      <td>2017-01-02 23:39:00</td>\n",
       "      <td>226</td>\n",
       "      <td>SCEL</td>\n",
       "      <td>KMIA</td>\n",
       "      <td>AAL</td>\n",
       "      <td>2</td>\n",
       "      <td>1</td>\n",
       "      <td>2017</td>\n",
       "      <td>Lunes</td>\n",
       "      <td>I</td>\n",
       "      <td>American Airlines</td>\n",
       "      <td>Santiago</td>\n",
       "      <td>Miami</td>\n",
       "    </tr>\n",
       "    <tr>\n",
       "      <th>2</th>\n",
       "      <td>2017-01-03 23:30:00</td>\n",
       "      <td>226</td>\n",
       "      <td>SCEL</td>\n",
       "      <td>KMIA</td>\n",
       "      <td>AAL</td>\n",
       "      <td>2017-01-03 23:39:00</td>\n",
       "      <td>226</td>\n",
       "      <td>SCEL</td>\n",
       "      <td>KMIA</td>\n",
       "      <td>AAL</td>\n",
       "      <td>3</td>\n",
       "      <td>1</td>\n",
       "      <td>2017</td>\n",
       "      <td>Martes</td>\n",
       "      <td>I</td>\n",
       "      <td>American Airlines</td>\n",
       "      <td>Santiago</td>\n",
       "      <td>Miami</td>\n",
       "    </tr>\n",
       "    <tr>\n",
       "      <th>3</th>\n",
       "      <td>2017-01-04 23:30:00</td>\n",
       "      <td>226</td>\n",
       "      <td>SCEL</td>\n",
       "      <td>KMIA</td>\n",
       "      <td>AAL</td>\n",
       "      <td>2017-01-04 23:33:00</td>\n",
       "      <td>226</td>\n",
       "      <td>SCEL</td>\n",
       "      <td>KMIA</td>\n",
       "      <td>AAL</td>\n",
       "      <td>4</td>\n",
       "      <td>1</td>\n",
       "      <td>2017</td>\n",
       "      <td>Miercoles</td>\n",
       "      <td>I</td>\n",
       "      <td>American Airlines</td>\n",
       "      <td>Santiago</td>\n",
       "      <td>Miami</td>\n",
       "    </tr>\n",
       "    <tr>\n",
       "      <th>4</th>\n",
       "      <td>2017-01-05 23:30:00</td>\n",
       "      <td>226</td>\n",
       "      <td>SCEL</td>\n",
       "      <td>KMIA</td>\n",
       "      <td>AAL</td>\n",
       "      <td>2017-01-05 23:28:00</td>\n",
       "      <td>226</td>\n",
       "      <td>SCEL</td>\n",
       "      <td>KMIA</td>\n",
       "      <td>AAL</td>\n",
       "      <td>5</td>\n",
       "      <td>1</td>\n",
       "      <td>2017</td>\n",
       "      <td>Jueves</td>\n",
       "      <td>I</td>\n",
       "      <td>American Airlines</td>\n",
       "      <td>Santiago</td>\n",
       "      <td>Miami</td>\n",
       "    </tr>\n",
       "    <tr>\n",
       "      <th>...</th>\n",
       "      <td>...</td>\n",
       "      <td>...</td>\n",
       "      <td>...</td>\n",
       "      <td>...</td>\n",
       "      <td>...</td>\n",
       "      <td>...</td>\n",
       "      <td>...</td>\n",
       "      <td>...</td>\n",
       "      <td>...</td>\n",
       "      <td>...</td>\n",
       "      <td>...</td>\n",
       "      <td>...</td>\n",
       "      <td>...</td>\n",
       "      <td>...</td>\n",
       "      <td>...</td>\n",
       "      <td>...</td>\n",
       "      <td>...</td>\n",
       "      <td>...</td>\n",
       "    </tr>\n",
       "    <tr>\n",
       "      <th>68201</th>\n",
       "      <td>2017-12-22 14:55:00</td>\n",
       "      <td>400</td>\n",
       "      <td>SCEL</td>\n",
       "      <td>SPJC</td>\n",
       "      <td>JAT</td>\n",
       "      <td>2017-12-22 15:41:00</td>\n",
       "      <td>400.0</td>\n",
       "      <td>SCEL</td>\n",
       "      <td>SPJC</td>\n",
       "      <td>JAT</td>\n",
       "      <td>22</td>\n",
       "      <td>12</td>\n",
       "      <td>2017</td>\n",
       "      <td>Viernes</td>\n",
       "      <td>I</td>\n",
       "      <td>JetSmart SPA</td>\n",
       "      <td>Santiago</td>\n",
       "      <td>Lima</td>\n",
       "    </tr>\n",
       "    <tr>\n",
       "      <th>68202</th>\n",
       "      <td>2017-12-25 14:55:00</td>\n",
       "      <td>400</td>\n",
       "      <td>SCEL</td>\n",
       "      <td>SPJC</td>\n",
       "      <td>JAT</td>\n",
       "      <td>2017-12-25 15:11:00</td>\n",
       "      <td>400.0</td>\n",
       "      <td>SCEL</td>\n",
       "      <td>SPJC</td>\n",
       "      <td>JAT</td>\n",
       "      <td>25</td>\n",
       "      <td>12</td>\n",
       "      <td>2017</td>\n",
       "      <td>Lunes</td>\n",
       "      <td>I</td>\n",
       "      <td>JetSmart SPA</td>\n",
       "      <td>Santiago</td>\n",
       "      <td>Lima</td>\n",
       "    </tr>\n",
       "    <tr>\n",
       "      <th>68203</th>\n",
       "      <td>2017-12-27 14:55:00</td>\n",
       "      <td>400</td>\n",
       "      <td>SCEL</td>\n",
       "      <td>SPJC</td>\n",
       "      <td>JAT</td>\n",
       "      <td>2017-12-27 15:35:00</td>\n",
       "      <td>400.0</td>\n",
       "      <td>SCEL</td>\n",
       "      <td>SPJC</td>\n",
       "      <td>JAT</td>\n",
       "      <td>27</td>\n",
       "      <td>12</td>\n",
       "      <td>2017</td>\n",
       "      <td>Miercoles</td>\n",
       "      <td>I</td>\n",
       "      <td>JetSmart SPA</td>\n",
       "      <td>Santiago</td>\n",
       "      <td>Lima</td>\n",
       "    </tr>\n",
       "    <tr>\n",
       "      <th>68204</th>\n",
       "      <td>2017-12-29 14:55:00</td>\n",
       "      <td>400</td>\n",
       "      <td>SCEL</td>\n",
       "      <td>SPJC</td>\n",
       "      <td>JAT</td>\n",
       "      <td>2017-12-29 15:08:00</td>\n",
       "      <td>400.0</td>\n",
       "      <td>SCEL</td>\n",
       "      <td>SPJC</td>\n",
       "      <td>JAT</td>\n",
       "      <td>29</td>\n",
       "      <td>12</td>\n",
       "      <td>2017</td>\n",
       "      <td>Viernes</td>\n",
       "      <td>I</td>\n",
       "      <td>JetSmart SPA</td>\n",
       "      <td>Santiago</td>\n",
       "      <td>Lima</td>\n",
       "    </tr>\n",
       "    <tr>\n",
       "      <th>68205</th>\n",
       "      <td>2017-12-31 14:55:00</td>\n",
       "      <td>400</td>\n",
       "      <td>SCEL</td>\n",
       "      <td>SPJC</td>\n",
       "      <td>JAT</td>\n",
       "      <td>2017-12-31 15:04:00</td>\n",
       "      <td>400.0</td>\n",
       "      <td>SCEL</td>\n",
       "      <td>SPJC</td>\n",
       "      <td>JAT</td>\n",
       "      <td>31</td>\n",
       "      <td>12</td>\n",
       "      <td>2017</td>\n",
       "      <td>Domingo</td>\n",
       "      <td>I</td>\n",
       "      <td>JetSmart SPA</td>\n",
       "      <td>Santiago</td>\n",
       "      <td>Lima</td>\n",
       "    </tr>\n",
       "  </tbody>\n",
       "</table>\n",
       "<p>68206 rows × 18 columns</p>\n",
       "</div>"
      ],
      "text/plain": [
       "                   Fecha-I Vlo-I Ori-I Des-I Emp-I              Fecha-O  \\\n",
       "0      2017-01-01 23:30:00   226  SCEL  KMIA   AAL  2017-01-01 23:33:00   \n",
       "1      2017-01-02 23:30:00   226  SCEL  KMIA   AAL  2017-01-02 23:39:00   \n",
       "2      2017-01-03 23:30:00   226  SCEL  KMIA   AAL  2017-01-03 23:39:00   \n",
       "3      2017-01-04 23:30:00   226  SCEL  KMIA   AAL  2017-01-04 23:33:00   \n",
       "4      2017-01-05 23:30:00   226  SCEL  KMIA   AAL  2017-01-05 23:28:00   \n",
       "...                    ...   ...   ...   ...   ...                  ...   \n",
       "68201  2017-12-22 14:55:00   400  SCEL  SPJC   JAT  2017-12-22 15:41:00   \n",
       "68202  2017-12-25 14:55:00   400  SCEL  SPJC   JAT  2017-12-25 15:11:00   \n",
       "68203  2017-12-27 14:55:00   400  SCEL  SPJC   JAT  2017-12-27 15:35:00   \n",
       "68204  2017-12-29 14:55:00   400  SCEL  SPJC   JAT  2017-12-29 15:08:00   \n",
       "68205  2017-12-31 14:55:00   400  SCEL  SPJC   JAT  2017-12-31 15:04:00   \n",
       "\n",
       "       Vlo-O Ori-O Des-O Emp-O  DIA  MES   AÑO     DIANOM TIPOVUELO  \\\n",
       "0        226  SCEL  KMIA   AAL    1    1  2017    Domingo         I   \n",
       "1        226  SCEL  KMIA   AAL    2    1  2017      Lunes         I   \n",
       "2        226  SCEL  KMIA   AAL    3    1  2017     Martes         I   \n",
       "3        226  SCEL  KMIA   AAL    4    1  2017  Miercoles         I   \n",
       "4        226  SCEL  KMIA   AAL    5    1  2017     Jueves         I   \n",
       "...      ...   ...   ...   ...  ...  ...   ...        ...       ...   \n",
       "68201  400.0  SCEL  SPJC   JAT   22   12  2017    Viernes         I   \n",
       "68202  400.0  SCEL  SPJC   JAT   25   12  2017      Lunes         I   \n",
       "68203  400.0  SCEL  SPJC   JAT   27   12  2017  Miercoles         I   \n",
       "68204  400.0  SCEL  SPJC   JAT   29   12  2017    Viernes         I   \n",
       "68205  400.0  SCEL  SPJC   JAT   31   12  2017    Domingo         I   \n",
       "\n",
       "                   OPERA  SIGLAORI SIGLADES  \n",
       "0      American Airlines  Santiago    Miami  \n",
       "1      American Airlines  Santiago    Miami  \n",
       "2      American Airlines  Santiago    Miami  \n",
       "3      American Airlines  Santiago    Miami  \n",
       "4      American Airlines  Santiago    Miami  \n",
       "...                  ...       ...      ...  \n",
       "68201       JetSmart SPA  Santiago     Lima  \n",
       "68202       JetSmart SPA  Santiago     Lima  \n",
       "68203       JetSmart SPA  Santiago     Lima  \n",
       "68204       JetSmart SPA  Santiago     Lima  \n",
       "68205       JetSmart SPA  Santiago     Lima  \n",
       "\n",
       "[68206 rows x 18 columns]"
      ]
     },
     "execution_count": 7,
     "metadata": {},
     "output_type": "execute_result"
    }
   ],
   "source": [
    "import pandas as pd\n",
    "from datetime import datetime\n",
    "import numpy as np\n",
    "\n",
    "df = pd.read_csv('dataset_SCL.csv')\n",
    "df"
   ]
  },
  {
   "cell_type": "code",
   "execution_count": 3,
   "metadata": {},
   "outputs": [
    {
     "name": "stdout",
     "output_type": "stream",
     "text": [
      "<class 'pandas.core.frame.DataFrame'>\n",
      "RangeIndex: 68206 entries, 0 to 68205\n",
      "Data columns (total 18 columns):\n",
      " #   Column     Non-Null Count  Dtype \n",
      "---  ------     --------------  ----- \n",
      " 0   Fecha-I    68206 non-null  object\n",
      " 1   Vlo-I      68206 non-null  object\n",
      " 2   Ori-I      68206 non-null  object\n",
      " 3   Des-I      68206 non-null  object\n",
      " 4   Emp-I      68206 non-null  object\n",
      " 5   Fecha-O    68206 non-null  object\n",
      " 6   Vlo-O      68205 non-null  object\n",
      " 7   Ori-O      68206 non-null  object\n",
      " 8   Des-O      68206 non-null  object\n",
      " 9   Emp-O      68206 non-null  object\n",
      " 10  DIA        68206 non-null  int64 \n",
      " 11  MES        68206 non-null  int64 \n",
      " 12  AÑO        68206 non-null  int64 \n",
      " 13  DIANOM     68206 non-null  object\n",
      " 14  TIPOVUELO  68206 non-null  object\n",
      " 15  OPERA      68206 non-null  object\n",
      " 16  SIGLAORI   68206 non-null  object\n",
      " 17  SIGLADES   68206 non-null  object\n",
      "dtypes: int64(3), object(15)\n",
      "memory usage: 9.4+ MB\n"
     ]
    }
   ],
   "source": [
    "df.info()"
   ]
  },
  {
   "cell_type": "code",
   "execution_count": 4,
   "metadata": {},
   "outputs": [
    {
     "name": "stdout",
     "output_type": "stream",
     "text": [
      "Variables numéricas: ['DIA', 'MES', 'AÑO']\n",
      "Variables categóricas: ['Des-I', 'Vlo-I', 'SIGLADES', 'SIGLAORI', 'OPERA', 'DIANOM', 'Emp-I', 'Vlo-O', 'Fecha-I', 'Emp-O', 'TIPOVUELO', 'Ori-I', 'Fecha-O', 'Ori-O', 'Des-O']\n"
     ]
    }
   ],
   "source": [
    "# Tip para obtener nombres de columnas más rápido\n",
    "num_cols = ['DIA','MES','AÑO']\n",
    "cat_cols = list(set(df.columns).difference(num_cols))\n",
    "print(f'Variables numéricas: {num_cols}')\n",
    "print(f'Variables categóricas: {cat_cols}')"
   ]
  },
  {
   "cell_type": "code",
   "execution_count": 25,
   "metadata": {},
   "outputs": [
    {
     "data": {
      "text/html": [
       "<div>\n",
       "<style scoped>\n",
       "    .dataframe tbody tr th:only-of-type {\n",
       "        vertical-align: middle;\n",
       "    }\n",
       "\n",
       "    .dataframe tbody tr th {\n",
       "        vertical-align: top;\n",
       "    }\n",
       "\n",
       "    .dataframe thead th {\n",
       "        text-align: right;\n",
       "    }\n",
       "</style>\n",
       "<table border=\"1\" class=\"dataframe\">\n",
       "  <thead>\n",
       "    <tr style=\"text-align: right;\">\n",
       "      <th></th>\n",
       "      <th></th>\n",
       "      <th></th>\n",
       "      <th>Fecha-I</th>\n",
       "      <th>Vlo-I</th>\n",
       "      <th>Des-I</th>\n",
       "      <th>Emp-I</th>\n",
       "      <th>Fecha-O</th>\n",
       "      <th>Vlo-O</th>\n",
       "      <th>Des-O</th>\n",
       "      <th>Emp-O</th>\n",
       "      <th>DIA</th>\n",
       "      <th>MES</th>\n",
       "      <th>AÑO</th>\n",
       "      <th>DIANOM</th>\n",
       "      <th>TIPOVUELO</th>\n",
       "      <th>OPERA</th>\n",
       "      <th>SIGLADES</th>\n",
       "    </tr>\n",
       "    <tr>\n",
       "      <th>Ori-I</th>\n",
       "      <th>Ori-O</th>\n",
       "      <th>SIGLAORI</th>\n",
       "      <th></th>\n",
       "      <th></th>\n",
       "      <th></th>\n",
       "      <th></th>\n",
       "      <th></th>\n",
       "      <th></th>\n",
       "      <th></th>\n",
       "      <th></th>\n",
       "      <th></th>\n",
       "      <th></th>\n",
       "      <th></th>\n",
       "      <th></th>\n",
       "      <th></th>\n",
       "      <th></th>\n",
       "      <th></th>\n",
       "    </tr>\n",
       "  </thead>\n",
       "  <tbody>\n",
       "    <tr>\n",
       "      <th>SCEL</th>\n",
       "      <th>SCEL</th>\n",
       "      <th>Santiago</th>\n",
       "      <td>68206</td>\n",
       "      <td>68206</td>\n",
       "      <td>68206</td>\n",
       "      <td>68206</td>\n",
       "      <td>68206</td>\n",
       "      <td>68205</td>\n",
       "      <td>68206</td>\n",
       "      <td>68206</td>\n",
       "      <td>68206</td>\n",
       "      <td>68206</td>\n",
       "      <td>68206</td>\n",
       "      <td>68206</td>\n",
       "      <td>68206</td>\n",
       "      <td>68206</td>\n",
       "      <td>68206</td>\n",
       "    </tr>\n",
       "  </tbody>\n",
       "</table>\n",
       "</div>"
      ],
      "text/plain": [
       "                      Fecha-I  Vlo-I  Des-I  Emp-I  Fecha-O  Vlo-O  Des-O  \\\n",
       "Ori-I Ori-O SIGLAORI                                                        \n",
       "SCEL  SCEL  Santiago    68206  68206  68206  68206    68206  68205  68206   \n",
       "\n",
       "                      Emp-O    DIA    MES    AÑO  DIANOM  TIPOVUELO  OPERA  \\\n",
       "Ori-I Ori-O SIGLAORI                                                         \n",
       "SCEL  SCEL  Santiago  68206  68206  68206  68206   68206      68206  68206   \n",
       "\n",
       "                      SIGLADES  \n",
       "Ori-I Ori-O SIGLAORI            \n",
       "SCEL  SCEL  Santiago     68206  "
      ]
     },
     "execution_count": 25,
     "metadata": {},
     "output_type": "execute_result"
    }
   ],
   "source": [
    "##### VALIDACIONES\n",
    "#  'Ori-I'   'Ori-O'   'SIGLAORI'\n",
    "#  'Des-I'   'Des-O'   'SIGLADES'\n",
    "#  'Vlo-I'   'Vlo-O'\n",
    "#  'Fecha-I' 'Fecha-O'\n",
    "#  'Emp-I'    'Emp-O'\n",
    "#result = df.groupby(['Ori-I','Ori-O','SIGLAORI','Des-O']).count()\n",
    "result = df.groupby(['Ori-I','Ori-O','SIGLAORI']).count()\n",
    "result"
   ]
  },
  {
   "cell_type": "code",
   "execution_count": 35,
   "metadata": {},
   "outputs": [],
   "source": [
    "result = df.groupby(['Des-I','Des-O','SIGLADES']).count()\n",
    "resultado = pd.DataFrame(result)\n",
    "resultado.reset_index(inplace=True)\n",
    "resultado\n",
    "##resultado_corto = resultado[['Des-I','Des-O']]\n",
    "resultado.to_csv('validacion_destino.csv', index = False)\n"
   ]
  },
  {
   "cell_type": "code",
   "execution_count": null,
   "metadata": {},
   "outputs": [],
   "source": [
    "result = df.groupby(['Ori-I','Ori-O','SIGLAORI']).count()\n",
    "result"
   ]
  },
  {
   "cell_type": "code",
   "execution_count": 12,
   "metadata": {},
   "outputs": [
    {
     "data": {
      "text/plain": [
       "SCFA    5787\n",
       "SPJC    5270\n",
       "SCCF    5145\n",
       "SCTE    4357\n",
       "SCIE    3995\n",
       "        ... \n",
       "SBFI       1\n",
       "SPSO       1\n",
       "SEQU       1\n",
       "SEQM       1\n",
       "SARI       1\n",
       "Name: Des-I, Length: 64, dtype: int64"
      ]
     },
     "execution_count": 12,
     "metadata": {},
     "output_type": "execute_result"
    }
   ],
   "source": [
    "#df['Des-I'].value_counts(dropna=False)/df.shape[0]\n",
    "df['Des-I'].value_counts(dropna=False)"
   ]
  },
  {
   "cell_type": "code",
   "execution_count": 15,
   "metadata": {},
   "outputs": [
    {
     "data": {
      "text/plain": [
       "174     686\n",
       "11      645\n",
       "116     608\n",
       "150     557\n",
       "162     553\n",
       "       ... \n",
       "1158      1\n",
       "368       1\n",
       "9955      1\n",
       "9701      1\n",
       "1218      1\n",
       "Name: Vlo-I, Length: 750, dtype: int64"
      ]
     },
     "execution_count": 15,
     "metadata": {},
     "output_type": "execute_result"
    }
   ],
   "source": [
    "df['Vlo-I'].value_counts(dropna=False)"
   ]
  },
  {
   "cell_type": "code",
   "execution_count": 19,
   "metadata": {},
   "outputs": [
    {
     "data": {
      "text/plain": [
       "LAN    37611\n",
       "SKU    14298\n",
       "TAM     3049\n",
       "ARG     1949\n",
       "CMP     1850\n",
       "LAW     1574\n",
       "AVA     1152\n",
       "JAT     1095\n",
       "GLO      806\n",
       "AAL      757\n",
       "ACA      565\n",
       "IBE      362\n",
       "AFR      358\n",
       "DAL      358\n",
       "AMX      351\n",
       "UAL      335\n",
       "ONE      279\n",
       "AZA      259\n",
       "KLM      251\n",
       "LAP      216\n",
       "BAW      205\n",
       "QFU      195\n",
       "JMR      100\n",
       "LRC       92\n",
       "AUT       74\n",
       "PUE       49\n",
       "LXP        9\n",
       "LPE        4\n",
       "DSM        2\n",
       "LNE        1\n",
       "Name: Emp-I, dtype: int64"
      ]
     },
     "execution_count": 19,
     "metadata": {},
     "output_type": "execute_result"
    }
   ],
   "source": [
    "df['Emp-I'].value_counts(dropna=False)"
   ]
  },
  {
   "cell_type": "code",
   "execution_count": 18,
   "metadata": {},
   "outputs": [
    {
     "data": {
      "text/plain": [
       "Viernes      10292\n",
       "Jueves       10251\n",
       "Lunes        10131\n",
       "Domingo       9796\n",
       "Miercoles     9722\n",
       "Martes        9662\n",
       "Sabado        8352\n",
       "Name: DIANOM, dtype: int64"
      ]
     },
     "execution_count": 18,
     "metadata": {},
     "output_type": "execute_result"
    }
   ],
   "source": [
    "df['DIANOM'].value_counts(dropna=False)"
   ]
  },
  {
   "cell_type": "code",
   "execution_count": 5,
   "metadata": {},
   "outputs": [
    {
     "data": {
      "text/plain": [
       "N    36966\n",
       "I    31240\n",
       "Name: TIPOVUELO, dtype: int64"
      ]
     },
     "execution_count": 5,
     "metadata": {},
     "output_type": "execute_result"
    }
   ],
   "source": [
    "df['TIPOVUELO'].value_counts()"
   ]
  },
  {
   "cell_type": "code",
   "execution_count": 6,
   "metadata": {},
   "outputs": [
    {
     "data": {
      "text/plain": [
       "Buenos Aires      6335\n",
       "Antofagasta       5786\n",
       "Lima              5270\n",
       "Calama            5146\n",
       "Puerto Montt      4357\n",
       "                  ... \n",
       "Quito                2\n",
       "Washington           1\n",
       "Pisco, Peru          1\n",
       "Puerto Stanley       1\n",
       "Cochabamba           1\n",
       "Name: SIGLADES, Length: 62, dtype: int64"
      ]
     },
     "execution_count": 6,
     "metadata": {},
     "output_type": "execute_result"
    }
   ],
   "source": [
    "df['SIGLADES'].value_counts()"
   ]
  },
  {
   "cell_type": "code",
   "execution_count": 7,
   "metadata": {},
   "outputs": [],
   "source": [
    "df.rename(columns = {'Fecha-I':'programada', 'Fecha-O':'operacion'}, inplace = True)\n",
    "df[\"fecha_programada\"] = (df[\"programada\"].str.split(\" \", n = 1, expand = True))[0]\n",
    "df[\"hora_programada\"] = (df[\"programada\"].str.split(\" \", n = 1, expand = True))[1]\n",
    "df[\"fecha_operacion\"] = (df[\"operacion\"].str.split(\" \", n = 1, expand = True))[0]\n",
    "df[\"hora_operacion\"] = (df[\"operacion\"].str.split(\" \", n = 1, expand = True))[1]\n",
    "df[\"casuistica\"] = np.where(df[\"fecha_programada\"]  == df[\"fecha_operacion\"] , np.where(df[\"hora_programada\"]  == df[\"hora_operacion\"] , 'match',  'no_match_hora')   , 'fecha_distinta' )\n",
    "df[\"casuistica_dicotomica\"] = df['casuistica'].apply(lambda x: x if x in ('no_match_hora', 'fecha_distinta') else 'match')\n",
    "df.loc[(df['casuistica'] == 'no_match_hora') | (df['casuistica'] == 'fecha_distinta'), 'casuistica_dicotomica'] = 'no_match'  \n",
    "df.head(10)\n",
    "df.to_csv(r'C:\\Users\\Diego Salcedo\\Downloads\\export.csv', index = False)"
   ]
  },
  {
   "cell_type": "code",
   "execution_count": 8,
   "metadata": {},
   "outputs": [
    {
     "data": {
      "text/plain": [
       "no_match_hora     63111\n",
       "match              4789\n",
       "fecha_distinta      306\n",
       "Name: casuistica, dtype: int64"
      ]
     },
     "execution_count": 8,
     "metadata": {},
     "output_type": "execute_result"
    }
   ],
   "source": [
    "df.casuistica.value_counts()"
   ]
  },
  {
   "cell_type": "code",
   "execution_count": 9,
   "metadata": {},
   "outputs": [
    {
     "data": {
      "text/plain": [
       "no_match    63417\n",
       "match        4789\n",
       "Name: casuistica_dicotomica, dtype: int64"
      ]
     },
     "execution_count": 9,
     "metadata": {},
     "output_type": "execute_result"
    }
   ],
   "source": [
    "df.casuistica_dicotomica.value_counts()"
   ]
  },
  {
   "cell_type": "code",
   "execution_count": null,
   "metadata": {},
   "outputs": [],
   "source": []
  },
  {
   "cell_type": "code",
   "execution_count": 131,
   "metadata": {},
   "outputs": [
    {
     "ename": "TypeError",
     "evalue": "strptime() argument 1 must be str, not Timestamp",
     "output_type": "error",
     "traceback": [
      "\u001b[1;31m---------------------------------------------------------------------------\u001b[0m",
      "\u001b[1;31mTypeError\u001b[0m                                 Traceback (most recent call last)",
      "\u001b[1;32mUntitled-1.ipynb Cell 6\u001b[0m in \u001b[0;36m1\n\u001b[0;32m      <a href='vscode-notebook-cell:Untitled-1.ipynb?jupyter-notebook#X35sdW50aXRsZWQ%3D?line=1'>2</a>\u001b[0m \u001b[39mfrom\u001b[39;00m \u001b[39mdatetime\u001b[39;00m \u001b[39mimport\u001b[39;00m datetime\n\u001b[0;32m      <a href='vscode-notebook-cell:Untitled-1.ipynb?jupyter-notebook#X35sdW50aXRsZWQ%3D?line=4'>5</a>\u001b[0m \u001b[39m# convert string to date object\u001b[39;00m\n\u001b[0;32m      <a href='vscode-notebook-cell:Untitled-1.ipynb?jupyter-notebook#X35sdW50aXRsZWQ%3D?line=5'>6</a>\u001b[0m \u001b[39m#df1['hora_programada'] = df1['hora_programada'].astype('datetime')\u001b[39;00m\n\u001b[0;32m      <a href='vscode-notebook-cell:Untitled-1.ipynb?jupyter-notebook#X35sdW50aXRsZWQ%3D?line=6'>7</a>\u001b[0m \u001b[39m#df1['hora_operacion'] = df1['hora_operacion'].astype('datetime')\u001b[39;00m\n\u001b[1;32m   (...)\u001b[0m\n\u001b[0;32m     <a href='vscode-notebook-cell:Untitled-1.ipynb?jupyter-notebook#X35sdW50aXRsZWQ%3D?line=12'>13</a>\u001b[0m \u001b[39m##print('Years, Months, Days between two dates is')\u001b[39;00m\n\u001b[0;32m     <a href='vscode-notebook-cell:Untitled-1.ipynb?jupyter-notebook#X35sdW50aXRsZWQ%3D?line=13'>14</a>\u001b[0m \u001b[39m##print(df1[\"diferencia\"].years)\u001b[39;00m\n\u001b[1;32m---> <a href='vscode-notebook-cell:Untitled-1.ipynb?jupyter-notebook#X35sdW50aXRsZWQ%3D?line=15'>16</a>\u001b[0m df1[\u001b[39m\"\u001b[39m\u001b[39mhora_programada\u001b[39m\u001b[39m\"\u001b[39m] \u001b[39m=\u001b[39m df1\u001b[39m.\u001b[39;49mhora_programada\u001b[39m.\u001b[39;49mapply(\u001b[39mlambda\u001b[39;49;00m x: datetime\u001b[39m.\u001b[39;49mstrptime(x,\u001b[39m'\u001b[39;49m\u001b[39m%\u001b[39;49m\u001b[39mH:\u001b[39;49m\u001b[39m%\u001b[39;49m\u001b[39mM:\u001b[39;49m\u001b[39m%\u001b[39;49m\u001b[39mS\u001b[39;49m\u001b[39m'\u001b[39;49m))\n\u001b[0;32m     <a href='vscode-notebook-cell:Untitled-1.ipynb?jupyter-notebook#X35sdW50aXRsZWQ%3D?line=16'>17</a>\u001b[0m df1[\u001b[39m\"\u001b[39m\u001b[39mhora_operacion\u001b[39m\u001b[39m\"\u001b[39m] \u001b[39m=\u001b[39m df1\u001b[39m.\u001b[39mhora_operacion\u001b[39m.\u001b[39mapply(\u001b[39mlambda\u001b[39;00m x: datetime\u001b[39m.\u001b[39mstrptime(x,\u001b[39m'\u001b[39m\u001b[39m%\u001b[39m\u001b[39mH:\u001b[39m\u001b[39m%\u001b[39m\u001b[39mM:\u001b[39m\u001b[39m%\u001b[39m\u001b[39mS\u001b[39m\u001b[39m'\u001b[39m))\n\u001b[0;32m     <a href='vscode-notebook-cell:Untitled-1.ipynb?jupyter-notebook#X35sdW50aXRsZWQ%3D?line=17'>18</a>\u001b[0m df1[\u001b[39m\"\u001b[39m\u001b[39mdiferencia_horas\u001b[39m\u001b[39m\"\u001b[39m] \u001b[39m=\u001b[39m df1[\u001b[39m\"\u001b[39m\u001b[39mhora_programada\u001b[39m\u001b[39m\"\u001b[39m] \u001b[39m-\u001b[39m df1[\u001b[39m\"\u001b[39m\u001b[39mhora_operacion\u001b[39m\u001b[39m\"\u001b[39m]\n",
      "File \u001b[1;32mc:\\Users\\Diego Salcedo\\anaconda3\\lib\\site-packages\\pandas\\core\\series.py:4357\u001b[0m, in \u001b[0;36mSeries.apply\u001b[1;34m(self, func, convert_dtype, args, **kwargs)\u001b[0m\n\u001b[0;32m   4247\u001b[0m \u001b[39mdef\u001b[39;00m \u001b[39mapply\u001b[39m(\n\u001b[0;32m   4248\u001b[0m     \u001b[39mself\u001b[39m,\n\u001b[0;32m   4249\u001b[0m     func: AggFuncType,\n\u001b[1;32m   (...)\u001b[0m\n\u001b[0;32m   4252\u001b[0m     \u001b[39m*\u001b[39m\u001b[39m*\u001b[39mkwargs,\n\u001b[0;32m   4253\u001b[0m ) \u001b[39m-\u001b[39m\u001b[39m>\u001b[39m FrameOrSeriesUnion:\n\u001b[0;32m   4254\u001b[0m     \u001b[39m\"\"\"\u001b[39;00m\n\u001b[0;32m   4255\u001b[0m \u001b[39m    Invoke function on values of Series.\u001b[39;00m\n\u001b[0;32m   4256\u001b[0m \n\u001b[1;32m   (...)\u001b[0m\n\u001b[0;32m   4355\u001b[0m \u001b[39m    dtype: float64\u001b[39;00m\n\u001b[0;32m   4356\u001b[0m \u001b[39m    \"\"\"\u001b[39;00m\n\u001b[1;32m-> 4357\u001b[0m     \u001b[39mreturn\u001b[39;00m SeriesApply(\u001b[39mself\u001b[39;49m, func, convert_dtype, args, kwargs)\u001b[39m.\u001b[39;49mapply()\n",
      "File \u001b[1;32mc:\\Users\\Diego Salcedo\\anaconda3\\lib\\site-packages\\pandas\\core\\apply.py:1043\u001b[0m, in \u001b[0;36mSeriesApply.apply\u001b[1;34m(self)\u001b[0m\n\u001b[0;32m   1039\u001b[0m \u001b[39mif\u001b[39;00m \u001b[39misinstance\u001b[39m(\u001b[39mself\u001b[39m\u001b[39m.\u001b[39mf, \u001b[39mstr\u001b[39m):\n\u001b[0;32m   1040\u001b[0m     \u001b[39m# if we are a string, try to dispatch\u001b[39;00m\n\u001b[0;32m   1041\u001b[0m     \u001b[39mreturn\u001b[39;00m \u001b[39mself\u001b[39m\u001b[39m.\u001b[39mapply_str()\n\u001b[1;32m-> 1043\u001b[0m \u001b[39mreturn\u001b[39;00m \u001b[39mself\u001b[39;49m\u001b[39m.\u001b[39;49mapply_standard()\n",
      "File \u001b[1;32mc:\\Users\\Diego Salcedo\\anaconda3\\lib\\site-packages\\pandas\\core\\apply.py:1098\u001b[0m, in \u001b[0;36mSeriesApply.apply_standard\u001b[1;34m(self)\u001b[0m\n\u001b[0;32m   1092\u001b[0m         values \u001b[39m=\u001b[39m obj\u001b[39m.\u001b[39mastype(\u001b[39mobject\u001b[39m)\u001b[39m.\u001b[39m_values\n\u001b[0;32m   1093\u001b[0m         \u001b[39m# error: Argument 2 to \"map_infer\" has incompatible type\u001b[39;00m\n\u001b[0;32m   1094\u001b[0m         \u001b[39m# \"Union[Callable[..., Any], str, List[Union[Callable[..., Any], str]],\u001b[39;00m\n\u001b[0;32m   1095\u001b[0m         \u001b[39m# Dict[Hashable, Union[Union[Callable[..., Any], str],\u001b[39;00m\n\u001b[0;32m   1096\u001b[0m         \u001b[39m# List[Union[Callable[..., Any], str]]]]]\"; expected\u001b[39;00m\n\u001b[0;32m   1097\u001b[0m         \u001b[39m# \"Callable[[Any], Any]\"\u001b[39;00m\n\u001b[1;32m-> 1098\u001b[0m         mapped \u001b[39m=\u001b[39m lib\u001b[39m.\u001b[39;49mmap_infer(\n\u001b[0;32m   1099\u001b[0m             values,\n\u001b[0;32m   1100\u001b[0m             f,  \u001b[39m# type: ignore[arg-type]\u001b[39;49;00m\n\u001b[0;32m   1101\u001b[0m             convert\u001b[39m=\u001b[39;49m\u001b[39mself\u001b[39;49m\u001b[39m.\u001b[39;49mconvert_dtype,\n\u001b[0;32m   1102\u001b[0m         )\n\u001b[0;32m   1104\u001b[0m \u001b[39mif\u001b[39;00m \u001b[39mlen\u001b[39m(mapped) \u001b[39mand\u001b[39;00m \u001b[39misinstance\u001b[39m(mapped[\u001b[39m0\u001b[39m], ABCSeries):\n\u001b[0;32m   1105\u001b[0m     \u001b[39m# GH 25959 use pd.array instead of tolist\u001b[39;00m\n\u001b[0;32m   1106\u001b[0m     \u001b[39m# so extension arrays can be used\u001b[39;00m\n\u001b[0;32m   1107\u001b[0m     \u001b[39mreturn\u001b[39;00m obj\u001b[39m.\u001b[39m_constructor_expanddim(pd_array(mapped), index\u001b[39m=\u001b[39mobj\u001b[39m.\u001b[39mindex)\n",
      "File \u001b[1;32mc:\\Users\\Diego Salcedo\\anaconda3\\lib\\site-packages\\pandas\\_libs\\lib.pyx:2859\u001b[0m, in \u001b[0;36mpandas._libs.lib.map_infer\u001b[1;34m()\u001b[0m\n",
      "\u001b[1;32mUntitled-1.ipynb Cell 6\u001b[0m in \u001b[0;36m1\n\u001b[0;32m      <a href='vscode-notebook-cell:Untitled-1.ipynb?jupyter-notebook#X35sdW50aXRsZWQ%3D?line=1'>2</a>\u001b[0m \u001b[39mfrom\u001b[39;00m \u001b[39mdatetime\u001b[39;00m \u001b[39mimport\u001b[39;00m datetime\n\u001b[0;32m      <a href='vscode-notebook-cell:Untitled-1.ipynb?jupyter-notebook#X35sdW50aXRsZWQ%3D?line=4'>5</a>\u001b[0m \u001b[39m# convert string to date object\u001b[39;00m\n\u001b[0;32m      <a href='vscode-notebook-cell:Untitled-1.ipynb?jupyter-notebook#X35sdW50aXRsZWQ%3D?line=5'>6</a>\u001b[0m \u001b[39m#df1['hora_programada'] = df1['hora_programada'].astype('datetime')\u001b[39;00m\n\u001b[0;32m      <a href='vscode-notebook-cell:Untitled-1.ipynb?jupyter-notebook#X35sdW50aXRsZWQ%3D?line=6'>7</a>\u001b[0m \u001b[39m#df1['hora_operacion'] = df1['hora_operacion'].astype('datetime')\u001b[39;00m\n\u001b[1;32m   (...)\u001b[0m\n\u001b[0;32m     <a href='vscode-notebook-cell:Untitled-1.ipynb?jupyter-notebook#X35sdW50aXRsZWQ%3D?line=12'>13</a>\u001b[0m \u001b[39m##print('Years, Months, Days between two dates is')\u001b[39;00m\n\u001b[0;32m     <a href='vscode-notebook-cell:Untitled-1.ipynb?jupyter-notebook#X35sdW50aXRsZWQ%3D?line=13'>14</a>\u001b[0m \u001b[39m##print(df1[\"diferencia\"].years)\u001b[39;00m\n\u001b[1;32m---> <a href='vscode-notebook-cell:Untitled-1.ipynb?jupyter-notebook#X35sdW50aXRsZWQ%3D?line=15'>16</a>\u001b[0m df1[\u001b[39m\"\u001b[39m\u001b[39mhora_programada\u001b[39m\u001b[39m\"\u001b[39m] \u001b[39m=\u001b[39m df1\u001b[39m.\u001b[39mhora_programada\u001b[39m.\u001b[39mapply(\u001b[39mlambda\u001b[39;00m x: datetime\u001b[39m.\u001b[39;49mstrptime(x,\u001b[39m'\u001b[39;49m\u001b[39m%\u001b[39;49m\u001b[39mH:\u001b[39;49m\u001b[39m%\u001b[39;49m\u001b[39mM:\u001b[39;49m\u001b[39m%\u001b[39;49m\u001b[39mS\u001b[39;49m\u001b[39m'\u001b[39;49m))\n\u001b[0;32m     <a href='vscode-notebook-cell:Untitled-1.ipynb?jupyter-notebook#X35sdW50aXRsZWQ%3D?line=16'>17</a>\u001b[0m df1[\u001b[39m\"\u001b[39m\u001b[39mhora_operacion\u001b[39m\u001b[39m\"\u001b[39m] \u001b[39m=\u001b[39m df1\u001b[39m.\u001b[39mhora_operacion\u001b[39m.\u001b[39mapply(\u001b[39mlambda\u001b[39;00m x: datetime\u001b[39m.\u001b[39mstrptime(x,\u001b[39m'\u001b[39m\u001b[39m%\u001b[39m\u001b[39mH:\u001b[39m\u001b[39m%\u001b[39m\u001b[39mM:\u001b[39m\u001b[39m%\u001b[39m\u001b[39mS\u001b[39m\u001b[39m'\u001b[39m))\n\u001b[0;32m     <a href='vscode-notebook-cell:Untitled-1.ipynb?jupyter-notebook#X35sdW50aXRsZWQ%3D?line=17'>18</a>\u001b[0m df1[\u001b[39m\"\u001b[39m\u001b[39mdiferencia_horas\u001b[39m\u001b[39m\"\u001b[39m] \u001b[39m=\u001b[39m df1[\u001b[39m\"\u001b[39m\u001b[39mhora_programada\u001b[39m\u001b[39m\"\u001b[39m] \u001b[39m-\u001b[39m df1[\u001b[39m\"\u001b[39m\u001b[39mhora_operacion\u001b[39m\u001b[39m\"\u001b[39m]\n",
      "\u001b[1;31mTypeError\u001b[0m: strptime() argument 1 must be str, not Timestamp"
     ]
    }
   ],
   "source": [
    "import datetime\n",
    "from datetime import datetime\n",
    "\n",
    "\n",
    "# convert string to date object\n",
    "#df1['hora_programada'] = df1['hora_programada'].astype('datetime')\n",
    "#df1['hora_operacion'] = df1['hora_operacion'].astype('datetime')\n",
    "#df1[\"hora_programada\"] = datetime.strptime(df1[\"hora_programada\"], \"%d/%m/%Y\")\n",
    "#df1[\"hora_operacion\"] = datetime.strptime(df1[\"hora_operacion\"], \"%d/%m/%Y\")\n",
    "#df1[\"diferencia\"] = abs((df1[\"hora_programada\"] - df1[\"hora_operacion\"]).days)\n",
    "# Get the relativedelta between two dates\n",
    "#df1[\"diferencia\"] = relativedelta.relativedelta(df1[\"hora_programada\"], df1[\"hora_operacion\"])\n",
    "##print('Years, Months, Days between two dates is')\n",
    "##print(df1[\"diferencia\"].years)\n",
    "\n",
    "df1[\"hora_programada\"] = df1.hora_programada.apply(lambda x: datetime.strptime(x,'%H:%M:%S'))\n",
    "df1[\"hora_operacion\"] = df1.hora_operacion.apply(lambda x: datetime.strptime(x,'%H:%M:%S'))\n",
    "df1[\"diferencia_horas\"] = df1[\"hora_programada\"] - df1[\"hora_operacion\"]\n"
   ]
  },
  {
   "cell_type": "code",
   "execution_count": null,
   "metadata": {},
   "outputs": [],
   "source": [
    "#df1[\"casuistica_dicotomica\"] = np.where(df1[\"fecha_programada\"]  == 'no match hora' | df1[\"fecha_programada\"]  == 'fecha distinta', 'match')\n",
    "#wine_df.loc[(wine_df.country == 'US') | (wine_df.price > 100)]\n",
    "#df.loc[(df['casuistica'] != 'Bill') & (df['casuistica'] != 'Emma'), 'casuistica_dicotomica'] = 'match'\n",
    "#df1[\"casuistica\"] = np.where(df1[\"fecha_programada\"]  == df1[\"fecha_operacion\"] , 'mismo día', 'otro dia')\n",
    "#df1['programada'] = df1['programada'].astype('str')\n",
    "##df1.loc[(df1.casuistica == 'no match hora') & (df1.points > 90)]\n",
    "#df1.loc[(df1.casuistica == 'no match hora') | (df1.casuistica > 'fecha distinta')]"
   ]
  }
 ],
 "metadata": {
  "kernelspec": {
   "display_name": "base",
   "language": "python",
   "name": "python3"
  },
  "language_info": {
   "codemirror_mode": {
    "name": "ipython",
    "version": 3
   },
   "file_extension": ".py",
   "mimetype": "text/x-python",
   "name": "python",
   "nbconvert_exporter": "python",
   "pygments_lexer": "ipython3",
   "version": "3.9.7"
  },
  "orig_nbformat": 4
 },
 "nbformat": 4,
 "nbformat_minor": 2
}
